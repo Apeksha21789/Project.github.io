{
 "cells": [
  {
   "cell_type": "code",
   "execution_count": 2,
   "id": "5f41582d-2229-4708-9390-d18a1a383185",
   "metadata": {},
   "outputs": [],
   "source": [
    "import pandas as pd\n",
    "import numpy as np\n",
    "import matplotlib.pyplot as plt"
   ]
  },
  {
   "cell_type": "code",
   "execution_count": 3,
   "id": "6c32bccd-085b-4078-b5e7-52450243626e",
   "metadata": {},
   "outputs": [],
   "source": [
    "df = pd.read_csv('Resto.csv', encoding= 'unicode_escape')"
   ]
  },
  {
   "cell_type": "code",
   "execution_count": 6,
   "id": "bca24b43-c014-44e0-8f97-cacb079593ec",
   "metadata": {
    "scrolled": true
   },
   "outputs": [
    {
     "data": {
      "text/plain": [
       "(9551, 21)"
      ]
     },
     "execution_count": 6,
     "metadata": {},
     "output_type": "execute_result"
    }
   ],
   "source": [
    "df.shape"
   ]
  },
  {
   "cell_type": "code",
   "execution_count": 8,
   "id": "b626536d-8f04-43c0-bed2-78518755f255",
   "metadata": {},
   "outputs": [
    {
     "name": "stdout",
     "output_type": "stream",
     "text": [
      "0             French, Japanese, Desserts\n",
      "1                               Japanese\n",
      "2       Seafood, Asian, Filipino, Indian\n",
      "3                        Japanese, Sushi\n",
      "4                       Japanese, Korean\n",
      "                      ...               \n",
      "9546                             Turkish\n",
      "9547     World Cuisine, Patisserie, Cafe\n",
      "9548              Italian, World Cuisine\n",
      "9549                     Restaurant Cafe\n",
      "9550                                Cafe\n",
      "Name: Cuisines, Length: 9551, dtype: object\n"
     ]
    }
   ],
   "source": [
    "print(df.Cuisines)"
   ]
  },
  {
   "cell_type": "code",
   "execution_count": 9,
   "id": "2d80e4e1-1231-40bc-889c-2342d04c04e0",
   "metadata": {},
   "outputs": [
    {
     "name": "stdout",
     "output_type": "stream",
     "text": [
      "The Top 3 Cuisines are -  Cuisines\n",
      "North Indian    3960\n",
      "Chinese         2735\n",
      "Fast Food       1986\n",
      "Name: count, dtype: int64\n"
     ]
    }
   ],
   "source": [
    "# Determine the top three most common cuisines in the dataset\n",
    "cuisines_count = df['Cuisines'].str.split(', ').explode('Cuisines').value_counts()\n",
    "top_cuisines = cuisines_count.head(3)\n",
    "print(\"The Top 3 Cuisines are - \",top_cuisines)"
   ]
  },
  {
   "cell_type": "code",
   "execution_count": 10,
   "id": "4c5f5a7e-d27f-4e1a-82ee-3367f14c85ef",
   "metadata": {},
   "outputs": [
    {
     "data": {
      "image/png": "[encoded data removed]",
      "text/plain": [
       "<Figure size 640x480 with 1 Axes>"
      ]
     },
     "metadata": {},
     "output_type": "display_data"
    }
   ],
   "source": [
    "colours = ['purple', 'blue', 'green']\n",
    "plt.bar(top_cuisines.index, top_cuisines.values, color=colours)\n",
    "plt.xlabel('Cuisines')\n",
    "plt.ylabel('Count')\n",
    "plt.title('Top Three Cuisines')\n",
    "plt.show()"
   ]
  },
  {
   "cell_type": "code",
   "execution_count": 11,
   "id": "947c12a0-5721-4d8b-bfde-2bca39fcf8ca",
   "metadata": {},
   "outputs": [
    {
     "name": "stdout",
     "output_type": "stream",
     "text": [
      "Cuisines\n",
      "North Indian    41.46\n",
      "Chinese         28.64\n",
      "Fast Food       20.79\n",
      "Name: count, dtype: float64\n"
     ]
    }
   ],
   "source": [
    "# Calculate the percentage of restaurants that serve each of the top cuisines\n",
    "total_restaurants = len(df)\n",
    "top_percentages = (top_cuisines / total_restaurants) * 100\n",
    "print(top_percentages.round(2))"
   ]
  },
  {
   "cell_type": "code",
   "execution_count": 1,
   "id": "e709da30-e354-42c9-a76d-edd272b4677f",
   "metadata": {},
   "outputs": [],
   "source": []
  }
 ],
 "metadata": {
  "kernelspec": {
   "display_name": "Python 3 (ipykernel)",
   "language": "python",
   "name": "python3"
  },
  "language_info": {
   "codemirror_mode": {
    "name": "ipython",
    "version": 3
   },
   "file_extension": ".py",
   "mimetype": "text/x-python",
   "name": "python",
   "nbconvert_exporter": "python",
   "pygments_lexer": "ipython3",
   "version": "3.13.5"
  }
 },
 "nbformat": 4,
 "nbformat_minor": 5
}
