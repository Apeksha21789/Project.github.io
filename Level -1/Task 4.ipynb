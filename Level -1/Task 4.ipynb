{
 "cells": [
  {
   "cell_type": "code",
   "execution_count": 1,
   "id": "1fa328e5-c635-47df-abbc-34fd969b1f07",
   "metadata": {},
   "outputs": [],
   "source": [
    "import pandas as pd\n",
    "import numpy as np\n",
    "import matplotlib.pyplot as plt"
   ]
  },
  {
   "cell_type": "code",
   "execution_count": 2,
   "id": "6f23c9a8-c862-4444-81bd-656dc47f422d",
   "metadata": {},
   "outputs": [],
   "source": [
    "df = pd.read_csv('Resto.csv', encoding= 'unicode_escape')"
   ]
  },
  {
   "cell_type": "code",
   "execution_count": 3,
   "id": "5a0151b7-68e8-4e98-80a2-a10649d09f54",
   "metadata": {},
   "outputs": [],
   "source": [
    "#  Determine the percentage of restaurants that offer online delivery\n",
    "online_delivery_count = df[df['Has Online delivery'] == 'Yes'].shape[0]"
   ]
  },
  {
   "cell_type": "code",
   "execution_count": 4,
   "id": "85236b26-13ba-4c7b-80ba-1a47a0e7ef14",
   "metadata": {},
   "outputs": [],
   "source": [
    "total_restaurants = len(df)"
   ]
  },
  {
   "cell_type": "code",
   "execution_count": 5,
   "id": "410ce0c6-9400-4fd6-a7bb-dd768074f369",
   "metadata": {},
   "outputs": [
    {
     "name": "stdout",
     "output_type": "stream",
     "text": [
      "Percentage of restaurants that offer online delivery: 25.66%\n"
     ]
    }
   ],
   "source": [
    "online_delivery_percentage = (online_delivery_count / total_restaurants) * 100\n",
    "print(f\"Percentage of restaurants that offer online delivery: {online_delivery_percentage:.2f}%\")"
   ]
  },
  {
   "cell_type": "code",
   "execution_count": 6,
   "id": "cd686e00-d6dc-47a9-b043-92e1fb491635",
   "metadata": {},
   "outputs": [],
   "source": [
    "# Compare the average ratings of restaurants with and without online delivery\n",
    "avg_rating_online = df[df['Has Online delivery'] == 'Yes']['Aggregate rating'].mean()"
   ]
  },
  {
   "cell_type": "code",
   "execution_count": 7,
   "id": "6858b273-3da5-43a1-b4f3-33dcec9521ea",
   "metadata": {},
   "outputs": [],
   "source": [
    "avg_rating_offline = df[df['Has Online delivery'] == 'No']['Aggregate rating'].mean()"
   ]
  },
  {
   "cell_type": "code",
   "execution_count": 8,
   "id": "f96cf7ec-1d78-4788-bf59-faaab330cc36",
   "metadata": {},
   "outputs": [
    {
     "name": "stdout",
     "output_type": "stream",
     "text": [
      "Average rating (with online delivery): 3.25\n",
      "Average rating (without online delivery): 2.47\n"
     ]
    }
   ],
   "source": [
    "print(f\"Average rating (with online delivery): {avg_rating_online:.2f}\")\n",
    "print(f\"Average rating (without online delivery): {avg_rating_offline:.2f}\")"
   ]
  },
  {
   "cell_type": "code",
   "execution_count": null,
   "id": "ab07bdad-bbf5-4c1a-abf9-649d76b033e3",
   "metadata": {},
   "outputs": [],
   "source": []
  }
 ],
 "metadata": {
  "kernelspec": {
   "display_name": "Python 3 (ipykernel)",
   "language": "python",
   "name": "python3"
  },
  "language_info": {
   "codemirror_mode": {
    "name": "ipython",
    "version": 3
   },
   "file_extension": ".py",
   "mimetype": "text/x-python",
   "name": "python",
   "nbconvert_exporter": "python",
   "pygments_lexer": "ipython3",
   "version": "3.13.5"
  }
 },
 "nbformat": 4,
 "nbformat_minor": 5
}
