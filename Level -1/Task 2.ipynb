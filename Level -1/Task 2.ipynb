{
 "cells": [
  {
   "cell_type": "code",
   "execution_count": 1,
   "id": "8f70dbd5-995c-4f87-a1b5-c2eb7ef27faf",
   "metadata": {},
   "outputs": [],
   "source": [
    "import pandas as pd\n",
    "import numpy as np\n",
    "import matplotlib.pyplot as plt"
   ]
  },
  {
   "cell_type": "code",
   "execution_count": 2,
   "id": "d5c51db1-d723-476f-ba23-5a9a99997fca",
   "metadata": {},
   "outputs": [],
   "source": [
    "df = pd.read_csv('Resto.csv', encoding= 'unicode_escape')"
   ]
  },
  {
   "cell_type": "code",
   "execution_count": 3,
   "id": "bd40260e-bdfc-4c15-b104-c15de0911606",
   "metadata": {},
   "outputs": [
    {
     "name": "stdout",
     "output_type": "stream",
     "text": [
      "The city with the highest number of restaurants is: New Delhi (5473 restaurants)\n"
     ]
    }
   ],
   "source": [
    "#  Identify the city with the highest number of restaurants in the dataset.\n",
    "top_city = df['City'].value_counts().idxmax()\n",
    "restaurant_count = df['City'].value_counts().max()\n",
    "print(f\"The city with the highest number of restaurants is: {top_city} ({restaurant_count} restaurants)\")"
   ]
  },
  {
   "cell_type": "code",
   "execution_count": 4,
   "id": "4dbdb15b-d6c0-4b18-a069-599c02bd5f44",
   "metadata": {},
   "outputs": [],
   "source": [
    "#  Calculate the average rating for restaurants in each city\n",
    "Avg_rating = df.groupby('City')['Aggregate rating'].mean()"
   ]
  },
  {
   "cell_type": "code",
   "execution_count": 5,
   "id": "d6edfbcb-1ac4-4d36-a24e-01dd53353bb4",
   "metadata": {},
   "outputs": [
    {
     "name": "stdout",
     "output_type": "stream",
     "text": [
      "City\n",
      "Abu Dhabi          4.300000\n",
      "Agra               3.965000\n",
      "Ahmedabad          4.161905\n",
      "Albany             3.555000\n",
      "Allahabad          3.395000\n",
      "                     ...   \n",
      "Weirton            3.900000\n",
      "Wellington City    4.250000\n",
      "Winchester Bay     3.200000\n",
      "Yorkton            3.300000\n",
      "ï¿½ï¿½stanbul      4.292857\n",
      "Name: Aggregate rating, Length: 141, dtype: float64\n"
     ]
    }
   ],
   "source": [
    "print(Avg_rating)"
   ]
  },
  {
   "cell_type": "code",
   "execution_count": 6,
   "id": "78d9256d-e709-42b1-a0ba-dea6f7e6530d",
   "metadata": {},
   "outputs": [
    {
     "name": "stdout",
     "output_type": "stream",
     "text": [
      "The city with the highest average restaurant rating is: Inner City (4.90)\n"
     ]
    }
   ],
   "source": [
    "#  Determine the city with the highest average rating\n",
    "top_avg_city = Avg_rating.idxmax()\n",
    "top_avg_rating = Avg_rating.max()\n",
    "print(f\"The city with the highest average restaurant rating is: {top_avg_city} ({top_avg_rating:.2f})\")"
   ]
  },
  {
   "cell_type": "code",
   "execution_count": null,
   "id": "28debc92-9585-4bbc-b0de-bddf1f2310f9",
   "metadata": {},
   "outputs": [],
   "source": []
  }
 ],
 "metadata": {
  "kernelspec": {
   "display_name": "Python 3 (ipykernel)",
   "language": "python",
   "name": "python3"
  },
  "language_info": {
   "codemirror_mode": {
    "name": "ipython",
    "version": 3
   },
   "file_extension": ".py",
   "mimetype": "text/x-python",
   "name": "python",
   "nbconvert_exporter": "python",
   "pygments_lexer": "ipython3",
   "version": "3.13.5"
  }
 },
 "nbformat": 4,
 "nbformat_minor": 5
}
