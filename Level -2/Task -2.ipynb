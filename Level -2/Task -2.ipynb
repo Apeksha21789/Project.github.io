{
 "cells": [
  {
   "cell_type": "code",
   "execution_count": 1,
   "id": "bee83801-edad-4889-bd00-c2ed2fca87d5",
   "metadata": {},
   "outputs": [],
   "source": [
    "import numpy as np\n",
    "import pandas as pd\n",
    "import matplotlib.pyplot as plt"
   ]
  },
  {
   "cell_type": "code",
   "execution_count": 2,
   "id": "c6eba77b-d76c-4eff-8ada-57937a9e8193",
   "metadata": {},
   "outputs": [],
   "source": [
    "df= pd.read_csv('Resto.csv')"
   ]
  },
  {
   "cell_type": "code",
   "execution_count": 3,
   "id": "e8443229-62b2-40b5-9df2-bf411e669384",
   "metadata": {},
   "outputs": [],
   "source": [
    "common_combinations = df['Cuisines'].value_counts().head(10)"
   ]
  },
  {
   "cell_type": "code",
   "execution_count": 4,
   "id": "d6344831-15c7-4158-97f4-d63376113607",
   "metadata": {},
   "outputs": [
    {
     "name": "stdout",
     "output_type": "stream",
     "text": [
      "Top 10 Most Common Cuisine Combinations:\n",
      "Cuisines\n",
      "North Indian                      936\n",
      "North Indian, Chinese             511\n",
      "Chinese                           354\n",
      "Fast Food                         354\n",
      "North Indian, Mughlai             334\n",
      "Cafe                              299\n",
      "Bakery                            218\n",
      "North Indian, Mughlai, Chinese    197\n",
      "Bakery, Desserts                  170\n",
      "Street Food                       149\n",
      "Name: count, dtype: int64\n"
     ]
    }
   ],
   "source": [
    "print(\"Top 10 Most Common Cuisine Combinations:\")\n",
    "print(common_combinations)"
   ]
  },
  {
   "cell_type": "code",
   "execution_count": 11,
   "id": "0017bff9-68d7-4309-bdad-4aa669eb7f40",
   "metadata": {},
   "outputs": [],
   "source": [
    "result = df.groupby('Cuisines')['Aggregate rating'].mean()"
   ]
  },
  {
   "cell_type": "code",
   "execution_count": 12,
   "id": "f5948c19-3e95-4627-8b43-0aa9b248c335",
   "metadata": {},
   "outputs": [],
   "source": [
    "top_combinations = result.sort_values(ascending=False).head(10)"
   ]
  },
  {
   "cell_type": "code",
   "execution_count": 13,
   "id": "63f0e640-3c1d-496d-a3e2-52b8375e2113",
   "metadata": {},
   "outputs": [
    {
     "name": "stdout",
     "output_type": "stream",
     "text": [
      "Top 10 cuisine combinations with highest average rating:\n",
      "Cuisines\n",
      "Burger, Bar Food, Steak            4.9\n",
      "American, Burger, Grill            4.9\n",
      "American, Caribbean, Seafood       4.9\n",
      "American, Coffee and Tea           4.9\n",
      "Mexican, American, Healthy Food    4.9\n",
      "Italian, Bakery, Continental       4.9\n",
      "BBQ, Breakfast, Southern           4.9\n",
      "European, German                   4.9\n",
      "Hawaiian, Seafood                  4.9\n",
      "Sunda, Indonesian                  4.9\n",
      "Name: Aggregate rating, dtype: float64\n"
     ]
    }
   ],
   "source": [
    "print(\"Top 10 cuisine combinations with highest average rating:\")\n",
    "print(top_combinations.round(2))"
   ]
  },
  {
   "cell_type": "code",
   "execution_count": null,
   "id": "c6f5df64-d566-45ee-856c-de145ecbb3c4",
   "metadata": {},
   "outputs": [],
   "source": []
  }
 ],
 "metadata": {
  "kernelspec": {
   "display_name": "Python 3 (ipykernel)",
   "language": "python",
   "name": "python3"
  },
  "language_info": {
   "codemirror_mode": {
    "name": "ipython",
    "version": 3
   },
   "file_extension": ".py",
   "mimetype": "text/x-python",
   "name": "python",
   "nbconvert_exporter": "python",
   "pygments_lexer": "ipython3",
   "version": "3.13.5"
  }
 },
 "nbformat": 4,
 "nbformat_minor": 5
}
