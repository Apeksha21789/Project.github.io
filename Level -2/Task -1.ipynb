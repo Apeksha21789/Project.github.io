{
 "cells": [
  {
   "cell_type": "code",
   "execution_count": 1,
   "id": "68f5b081-2b1b-40b8-8fd1-a555348183e2",
   "metadata": {},
   "outputs": [],
   "source": [
    "import numpy as np\n",
    "import pandas as pd\n",
    "import matplotlib.pyplot as plt"
   ]
  },
  {
   "cell_type": "code",
   "execution_count": 23,
   "id": "6f35a025-4679-45fc-ac8c-dd3ca179f510",
   "metadata": {},
   "outputs": [],
   "source": [
    "df= pd.read_csv('Resto.csv')"
   ]
  },
  {
   "cell_type": "code",
   "execution_count": 24,
   "id": "0a26605f-ae9d-478a-b7e4-b9ed277d1b03",
   "metadata": {},
   "outputs": [
    {
     "data": {
      "text/plain": [
       "(9551, 21)"
      ]
     },
     "execution_count": 24,
     "metadata": {},
     "output_type": "execute_result"
    }
   ],
   "source": [
    "df.shape"
   ]
  },
  {
   "cell_type": "code",
   "execution_count": 25,
   "id": "687c7d90-4e56-43e5-a285-e4753a12efe6",
   "metadata": {},
   "outputs": [
    {
     "data": {
      "text/plain": [
       "Index(['Restaurant ID', 'Restaurant Name', 'Country Code', 'City', 'Address',\n",
       "       'Locality', 'Locality Verbose', 'Longitude', 'Latitude', 'Cuisines',\n",
       "       'Average Cost for two', 'Currency', 'Has Table booking',\n",
       "       'Has Online delivery', 'Is delivering now', 'Switch to order menu',\n",
       "       'Price range', 'Aggregate rating', 'Rating color', 'Rating text',\n",
       "       'Votes'],\n",
       "      dtype='object')"
      ]
     },
     "execution_count": 25,
     "metadata": {},
     "output_type": "execute_result"
    }
   ],
   "source": [
    "df.columns"
   ]
  },
  {
   "cell_type": "code",
   "execution_count": 30,
   "id": "2455038f-9522-409a-b834-fb6bdf9e5f85",
   "metadata": {},
   "outputs": [],
   "source": [
    "df = df[df['Aggregate rating'].notnull()]\n",
    "df = df[df['Aggregate rating'] > 0]"
   ]
  },
  {
   "cell_type": "code",
   "execution_count": 31,
   "id": "1acfd2f3-1301-43d4-a048-4d0c51fa4f25",
   "metadata": {},
   "outputs": [
    {
     "data": {
      "image/png": "[encoded data removed]",
      "text/plain": [
       "<Figure size 800x500 with 1 Axes>"
      ]
     },
     "metadata": {},
     "output_type": "display_data"
    }
   ],
   "source": [
    "plt.figure(figsize=(8, 5))\n",
    "plt.hist(df['Aggregate rating'], bins=10, color='orange', edgecolor='black')\n",
    "plt.title('Distribution of Aggregate Ratings')\n",
    "plt.xlabel('Aggregate Rating')\n",
    "plt.ylabel('Number of Restaurants')\n",
    "plt.grid(True)\n",
    "plt.show()"
   ]
  },
  {
   "cell_type": "code",
   "execution_count": 32,
   "id": "a646a507-92c1-4077-a021-c47acfa5a710",
   "metadata": {},
   "outputs": [
    {
     "name": "stdout",
     "output_type": "stream",
     "text": [
      "Ratings count:\n",
      " Aggregate rating\n",
      "1.8      1\n",
      "1.9      2\n",
      "2.0      7\n",
      "2.1     15\n",
      "2.2     27\n",
      "2.3     47\n",
      "2.4     87\n",
      "2.5    110\n",
      "2.6    191\n",
      "2.7    250\n",
      "2.8    315\n",
      "2.9    381\n",
      "3.0    468\n",
      "3.1    519\n",
      "3.2    522\n",
      "3.3    483\n",
      "3.4    498\n",
      "3.5    480\n",
      "3.6    458\n",
      "3.7    427\n",
      "3.8    400\n",
      "3.9    335\n",
      "4.0    266\n",
      "4.1    274\n",
      "4.2    221\n",
      "4.3    174\n",
      "4.4    144\n",
      "4.5     95\n",
      "4.6     78\n",
      "4.7     42\n",
      "4.8     25\n",
      "4.9     61\n",
      "Name: count, dtype: int64\n"
     ]
    }
   ],
   "source": [
    "rating_counts = df['Aggregate rating'].value_counts().sort_index()\n",
    "print(\"Ratings count:\\n\", rating_counts)"
   ]
  },
  {
   "cell_type": "code",
   "execution_count": 33,
   "id": "76df342d-b24f-4e8f-98f1-41dba06848bc",
   "metadata": {},
   "outputs": [
    {
     "name": "stdout",
     "output_type": "stream",
     "text": [
      "\n",
      "Most common rating range: 3.2\n"
     ]
    }
   ],
   "source": [
    "com= rating_counts.idxmax()\n",
    "print(\"\\nMost common rating range:\" ,com)"
   ]
  },
  {
   "cell_type": "code",
   "execution_count": 36,
   "id": "456c3b8a-e5df-4b70-9a8b-1ccd24cec9ae",
   "metadata": {},
   "outputs": [
    {
     "name": "stdout",
     "output_type": "stream",
     "text": [
      "Average number of votes received by restaurants: 202.19\n"
     ]
    }
   ],
   "source": [
    "average_votes = df['Votes'].mean()\n",
    "print(\"Average number of votes received by restaurants:\", round(average_votes, 2))"
   ]
  },
  {
   "cell_type": "code",
   "execution_count": null,
   "id": "70aef59f-5b4c-46a1-b5f0-e72f8524eafc",
   "metadata": {},
   "outputs": [],
   "source": []
  }
 ],
 "metadata": {
  "kernelspec": {
   "display_name": "Python 3 (ipykernel)",
   "language": "python",
   "name": "python3"
  },
  "language_info": {
   "codemirror_mode": {
    "name": "ipython",
    "version": 3
   },
   "file_extension": ".py",
   "mimetype": "text/x-python",
   "name": "python",
   "nbconvert_exporter": "python",
   "pygments_lexer": "ipython3",
   "version": "3.13.5"
  }
 },
 "nbformat": 4,
 "nbformat_minor": 5
}
