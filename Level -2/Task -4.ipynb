{
 "cells": [
  {
   "cell_type": "code",
   "execution_count": 2,
   "id": "55a633b1-3966-4648-996a-0fcdd7154167",
   "metadata": {},
   "outputs": [],
   "source": [
    "import pandas as pd"
   ]
  },
  {
   "cell_type": "code",
   "execution_count": 3,
   "id": "2017b1c9-9d1e-46e7-8275-90921242bd79",
   "metadata": {},
   "outputs": [],
   "source": [
    "df = pd.read_csv('Resto.csv')"
   ]
  },
  {
   "cell_type": "code",
   "execution_count": 4,
   "id": "a4bd4524-8529-4df1-8945-d982dd54120b",
   "metadata": {},
   "outputs": [],
   "source": [
    "restaurant_counts = df['Restaurant Name'].value_counts()"
   ]
  },
  {
   "cell_type": "code",
   "execution_count": 5,
   "id": "1ccd16af-e216-4eff-97c4-ea5f75f9218f",
   "metadata": {},
   "outputs": [],
   "source": [
    "chains = restaurant_counts[restaurant_counts > 1]"
   ]
  },
  {
   "cell_type": "code",
   "execution_count": 6,
   "id": "0e7fbf60-5afe-42b4-b7a0-a43ab0c2d0ec",
   "metadata": {},
   "outputs": [
    {
     "name": "stdout",
     "output_type": "stream",
     "text": [
      "Top 10 Restaurant Chains:\n",
      "Restaurant Name\n",
      "Cafe Coffee Day     83\n",
      "Domino's Pizza      79\n",
      "Subway              63\n",
      "Green Chick Chop    51\n",
      "McDonald's          48\n",
      "Keventers           34\n",
      "Pizza Hut           30\n",
      "Giani               29\n",
      "Baskin Robbins      28\n",
      "Barbeque Nation     26\n",
      "Name: count, dtype: int64\n"
     ]
    }
   ],
   "source": [
    "print(\"Top 10 Restaurant Chains:\")\n",
    "print(chains.head(10))"
   ]
  },
  {
   "cell_type": "code",
   "execution_count": 10,
   "id": "98829cb6-2dbe-4294-ac5f-4051411e45c7",
   "metadata": {},
   "outputs": [],
   "source": [
    "# 2nd\n",
    "chains = df['Restaurant Name'].value_counts()\n",
    "chains = chains[chains > 1].index"
   ]
  },
  {
   "cell_type": "code",
   "execution_count": 11,
   "id": "f51a168c-2817-44a3-b70d-e25b67c6f464",
   "metadata": {},
   "outputs": [],
   "source": [
    "chain_data = df[df['Restaurant Name'].isin(chains)]"
   ]
  },
  {
   "cell_type": "code",
   "execution_count": 12,
   "id": "42744989-f467-4cf8-8f84-d34f066fa616",
   "metadata": {},
   "outputs": [],
   "source": [
    "chain_summary = chain_data.groupby('Restaurant Name').agg({\n",
    "    'Aggregate rating': 'mean',\n",
    "    'Restaurant Name': 'count'\n",
    "}).rename(columns={'Restaurant Name': 'Outlets', 'Aggregate rating': 'Avg Rating'})"
   ]
  },
  {
   "cell_type": "code",
   "execution_count": 13,
   "id": "d6f4233c-0959-4e64-ba79-4d315509ca48",
   "metadata": {},
   "outputs": [
    {
     "name": "stdout",
     "output_type": "stream",
     "text": [
      "                  Avg Rating  Outlets\n",
      "Restaurant Name                      \n",
      "Cafe Coffee Day         2.42       83\n",
      "Domino's Pizza          2.74       79\n",
      "Subway                  2.91       63\n",
      "Green Chick Chop        2.67       51\n",
      "McDonald's              3.34       48\n",
      "Keventers               2.87       34\n",
      "Pizza Hut               3.32       30\n",
      "Giani                   2.69       29\n",
      "Baskin Robbins          1.86       28\n",
      "Barbeque Nation         4.35       26\n"
     ]
    }
   ],
   "source": [
    "print(chain_summary.sort_values(by='Outlets', ascending=False).head(10).round(2))"
   ]
  },
  {
   "cell_type": "code",
   "execution_count": null,
   "id": "04e56df2-5d1e-466e-b7d6-3ecb091c992a",
   "metadata": {},
   "outputs": [],
   "source": []
  }
 ],
 "metadata": {
  "kernelspec": {
   "display_name": "Python 3 (ipykernel)",
   "language": "python",
   "name": "python3"
  },
  "language_info": {
   "codemirror_mode": {
    "name": "ipython",
    "version": 3
   },
   "file_extension": ".py",
   "mimetype": "text/x-python",
   "name": "python",
   "nbconvert_exporter": "python",
   "pygments_lexer": "ipython3",
   "version": "3.13.5"
  }
 },
 "nbformat": 4,
 "nbformat_minor": 5
}
